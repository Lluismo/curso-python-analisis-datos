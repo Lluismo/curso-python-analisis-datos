{
 "cells": [
  {
   "cell_type": "markdown",
   "metadata": {},
   "source": [
    "# # Exercici 1\n",
    "\n",
    "Un primer apartat per recordar coses de cursos passats"
   ]
  },
  {
   "cell_type": "code",
   "execution_count": 7,
   "metadata": {},
   "outputs": [
    {
     "name": "stdout",
     "output_type": "stream",
     "text": [
      "Vicens,Nach\n"
     ]
    }
   ],
   "source": [
    "amic1 = \"Vicens\"\n",
    "amic2 = \"Nach\"\n",
    "Amics = amic1+\",\"+\"\"+ amic2\n",
    "print (Amics)"
   ]
  },
  {
   "cell_type": "markdown",
   "metadata": {},
   "source": [
    "Una segona prova\n"
   ]
  },
  {
   "cell_type": "code",
   "execution_count": 8,
   "metadata": {},
   "outputs": [
    {
     "name": "stdout",
     "output_type": "stream",
     "text": [
      "Escriu el teu nom:Lluís\n",
      "Lluís\n"
     ]
    }
   ],
   "source": [
    "Nom = input (\"Escriu el teu nom:\")\n",
    "print (Nom)\n"
   ]
  },
  {
   "cell_type": "code",
   "execution_count": 28,
   "metadata": {},
   "outputs": [
    {
     "name": "stdout",
     "output_type": "stream",
     "text": [
      "Quantes pomes queden?10\n",
      "10\n",
      "9\n",
      "hem passat de x a y\n",
      "hem passat de 10 a 9\n"
     ]
    }
   ],
   "source": [
    "Pomes = input (\"Quantes pomes queden?\")\n",
    "Pomes2 = int(Pomes) - 1\n",
    "print (Pomes)\n",
    "print (Pomes2)\n",
    "print (\"hem passat de x a y\")\n",
    "print (\"hem passat de\",Pomes, \"a\", Pomes2)"
   ]
  },
  {
   "cell_type": "code",
   "execution_count": null,
   "metadata": {},
   "outputs": [],
   "source": []
  }
 ],
 "metadata": {
  "kernelspec": {
   "display_name": "Python 3",
   "language": "python",
   "name": "python3"
  },
  "language_info": {
   "codemirror_mode": {
    "name": "ipython",
    "version": 3
   },
   "file_extension": ".py",
   "mimetype": "text/x-python",
   "name": "python",
   "nbconvert_exporter": "python",
   "pygments_lexer": "ipython3",
   "version": "3.7.4"
  }
 },
 "nbformat": 4,
 "nbformat_minor": 2
}
